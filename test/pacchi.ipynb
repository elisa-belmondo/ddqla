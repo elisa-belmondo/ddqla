{
 "nbformat": 4,
 "nbformat_minor": 0,
 "metadata": {
  "colab": {
   "provenance": []
  },
  "kernelspec": {
   "name": "python3",
   "language": "python",
   "display_name": "Python 3 (ipykernel)"
  },
  "language_info": {
   "name": "python"
  }
 },
 "cells": [
  {
   "cell_type": "code",
   "execution_count": 1,
   "metadata": {
    "colab": {
     "base_uri": "https://localhost:8080/"
    },
    "id": "FBiCFAroFs--",
    "executionInfo": {
     "status": "ok",
     "timestamp": 1691136009239,
     "user_tz": -120,
     "elapsed": 6629,
     "user": {
      "displayName": "Marco Sarti",
      "userId": "06571956198639174900"
     }
    },
    "outputId": "2f70946d-e89b-43e3-efe7-b44941d33fe0",
    "ExecuteTime": {
     "end_time": "2023-08-04T08:24:15.827754600Z",
     "start_time": "2023-08-04T08:24:13.986336600Z"
    }
   },
   "outputs": [
    {
     "name": "stdout",
     "output_type": "stream",
     "text": [
      "Requirement already satisfied: ddqla in c:\\users\\admin\\pycharmprojects\\ddqla\\venv\\lib\\site-packages (0.1.13)\n",
      "Collecting ddqla\n",
      "  Obtaining dependency information for ddqla from https://files.pythonhosted.org/packages/4e/18/03d888790ec62b8ceef1df54e9fb3a63077c8728b038b134c53ee229fb86/ddqla-0.1.14-py3-none-any.whl.metadata\n",
      "  Downloading ddqla-0.1.14-py3-none-any.whl.metadata (3.4 kB)\n",
      "Downloading ddqla-0.1.14-py3-none-any.whl (8.7 kB)\n",
      "Installing collected packages: ddqla\n",
      "  Attempting uninstall: ddqla\n",
      "    Found existing installation: ddqla 0.1.13\n",
      "    Uninstalling ddqla-0.1.13:\n",
      "      Successfully uninstalled ddqla-0.1.13\n",
      "Successfully installed ddqla-0.1.14\n"
     ]
    }
   ],
   "source": [
    "!pip install --upgrade ddqla"
   ]
  },
  {
   "cell_type": "code",
   "source": [
    "import numpy as np\n",
    "import pandas as pd\n",
    "\n",
    "from ddqla.agents import BaseAgent\n",
    "\n",
    "from keras.models import Model\n",
    "from keras.layers import Dense, Input\n",
    "from keras.optimizers import Adam\n",
    "from keras.losses import MeanSquaredError"
   ],
   "metadata": {
    "id": "_4c6fODUFxxO",
    "executionInfo": {
     "status": "ok",
     "timestamp": 1691136014317,
     "user_tz": -120,
     "elapsed": 5081,
     "user": {
      "displayName": "Marco Sarti",
      "userId": "06571956198639174900"
     }
    },
    "ExecuteTime": {
     "end_time": "2023-08-04T08:24:17.596754100Z",
     "start_time": "2023-08-04T08:24:15.827754600Z"
    }
   },
   "execution_count": 2,
   "outputs": []
  },
  {
   "cell_type": "code",
   "source": [
    "class PacchiAgent(BaseAgent):\n",
    "    __ACTIONS = 4\n",
    "\n",
    "    def __init__(self):\n",
    "        super().__init__(\n",
    "            num_actions=PacchiAgent.__ACTIONS,\n",
    "            environment=np.asarray([0, 0], dtype=np.float32),\n",
    "            fit_each_n_steps = 5,\n",
    "            exploration_rate_decay = 1e-3,\n",
    "            cumulative_rewards_max_length=250,\n",
    "            memory_max_length=512,\n",
    "            memory_batch_size=128,\n",
    "        )\n",
    "\n",
    "    def _get_model(self, environment):\n",
    "        inputs = Input(shape=(environment))\n",
    "        dense = Dense(8, activation='swish')(inputs)\n",
    "        dense = Dense(8, activation='swish')(dense)\n",
    "        outputs = Dense(PacchiAgent.__ACTIONS, activation='linear')(dense)\n",
    "\n",
    "        model = Model(inputs=inputs, outputs=outputs)\n",
    "        model.compile(optimizer=Adam(), loss=MeanSquaredError())\n",
    "        model.summary()\n",
    "\n",
    "        return model\n",
    "\n",
    "    def reset_state(self):\n",
    "        self._state = np.asarray([0, 0], dtype=np.float32)\n",
    "\n",
    "    def _get_reward(self, action, environment):\n",
    "        reward = -1\n",
    "        if action == 0 and environment[0] == 0:  #  prendi pacco\n",
    "            environment[1] = 1 # pacco preso\n",
    "        elif action == 1:  # lascia il pacco\n",
    "            if environment[1] == 1:\n",
    "                environment[1] = 0  # no pacco\n",
    "                if environment[0] == 1:\n",
    "                    reward = 5  # 4 azioni per raggiungere lo scopo\n",
    "        elif action == 2:  #  vai a magazzino 2\n",
    "            environment[0] = 1  # sono in magazzino 2\n",
    "        elif action == 3:  # vai a magazzino 1\n",
    "            environment[0] = 0\n",
    "        return reward"
   ],
   "metadata": {
    "id": "OJN2aFh_GYL3",
    "executionInfo": {
     "status": "ok",
     "timestamp": 1691136014318,
     "user_tz": -120,
     "elapsed": 7,
     "user": {
      "displayName": "Marco Sarti",
      "userId": "06571956198639174900"
     }
    },
    "ExecuteTime": {
     "end_time": "2023-08-04T08:24:17.600812Z",
     "start_time": "2023-08-04T08:24:17.600073400Z"
    }
   },
   "execution_count": 3,
   "outputs": []
  },
  {
   "cell_type": "code",
   "source": [
    "a = PacchiAgent()"
   ],
   "metadata": {
    "colab": {
     "base_uri": "https://localhost:8080/"
    },
    "id": "hND10j_1YB7Q",
    "executionInfo": {
     "status": "ok",
     "timestamp": 1691136047031,
     "user_tz": -120,
     "elapsed": 1001,
     "user": {
      "displayName": "Marco Sarti",
      "userId": "06571956198639174900"
     }
    },
    "outputId": "7ea65cea-b46a-4b14-b5f9-748fa1b656c6",
    "ExecuteTime": {
     "end_time": "2023-08-04T08:24:17.716941300Z",
     "start_time": "2023-08-04T08:24:17.600812Z"
    }
   },
   "execution_count": 4,
   "outputs": [
    {
     "name": "stdout",
     "output_type": "stream",
     "text": [
      "Model: \"model\"\n",
      "_________________________________________________________________\n",
      " Layer (type)                Output Shape              Param #   \n",
      "=================================================================\n",
      " input_1 (InputLayer)        [(None, 2)]               0         \n",
      "                                                                 \n",
      " dense (Dense)               (None, 8)                 24        \n",
      "                                                                 \n",
      " dense_1 (Dense)             (None, 8)                 72        \n",
      "                                                                 \n",
      " dense_2 (Dense)             (None, 4)                 36        \n",
      "                                                                 \n",
      "=================================================================\n",
      "Total params: 132 (528.00 Byte)\n",
      "Trainable params: 132 (528.00 Byte)\n",
      "Non-trainable params: 0 (0.00 Byte)\n",
      "_________________________________________________________________\n",
      "Model: \"model_1\"\n",
      "_________________________________________________________________\n",
      " Layer (type)                Output Shape              Param #   \n",
      "=================================================================\n",
      " input_2 (InputLayer)        [(None, 2)]               0         \n",
      "                                                                 \n",
      " dense_3 (Dense)             (None, 8)                 24        \n",
      "                                                                 \n",
      " dense_4 (Dense)             (None, 8)                 72        \n",
      "                                                                 \n",
      " dense_5 (Dense)             (None, 4)                 36        \n",
      "                                                                 \n",
      "=================================================================\n",
      "Total params: 132 (528.00 Byte)\n",
      "Trainable params: 132 (528.00 Byte)\n",
      "Non-trainable params: 0 (0.00 Byte)\n",
      "_________________________________________________________________\n"
     ]
    }
   ]
  },
  {
   "cell_type": "code",
   "source": [
    "a = PacchiAgent()\n",
    "for s in range(0, 6000):\n",
    "    a.step()\n",
    "    if s % 100 == 0 and a.is_memory_ready():\n",
    "        test_rewards = a.test(64)\n",
    "        cum_rewards = a.get_last_cumulative_rewards()\n",
    "        print(\"#\", s, \" CR: \", cum_rewards, \" R: \", test_rewards)"
   ],
   "metadata": {
    "colab": {
     "base_uri": "https://localhost:8080/"
    },
    "id": "T5oiX9sfI9_Q",
    "executionInfo": {
     "status": "ok",
     "timestamp": 1691136324839,
     "user_tz": -120,
     "elapsed": 274565,
     "user": {
      "displayName": "Marco Sarti",
      "userId": "06571956198639174900"
     }
    },
    "outputId": "060a9fb8-ae16-4c83-9616-f1aef924dee1",
    "ExecuteTime": {
     "end_time": "2023-08-04T08:25:44.010550200Z",
     "start_time": "2023-08-04T08:24:17.716941300Z"
    }
   },
   "execution_count": 5,
   "outputs": [
    {
     "name": "stdout",
     "output_type": "stream",
     "text": [
      "Model: \"model_2\"\n",
      "_________________________________________________________________\n",
      " Layer (type)                Output Shape              Param #   \n",
      "=================================================================\n",
      " input_3 (InputLayer)        [(None, 2)]               0         \n",
      "                                                                 \n",
      " dense_6 (Dense)             (None, 8)                 24        \n",
      "                                                                 \n",
      " dense_7 (Dense)             (None, 8)                 72        \n",
      "                                                                 \n",
      " dense_8 (Dense)             (None, 4)                 36        \n",
      "                                                                 \n",
      "=================================================================\n",
      "Total params: 132 (528.00 Byte)\n",
      "Trainable params: 132 (528.00 Byte)\n",
      "Non-trainable params: 0 (0.00 Byte)\n",
      "_________________________________________________________________\n",
      "Model: \"model_3\"\n",
      "_________________________________________________________________\n",
      " Layer (type)                Output Shape              Param #   \n",
      "=================================================================\n",
      " input_4 (InputLayer)        [(None, 2)]               0         \n",
      "                                                                 \n",
      " dense_9 (Dense)             (None, 8)                 24        \n",
      "                                                                 \n",
      " dense_10 (Dense)            (None, 8)                 72        \n",
      "                                                                 \n",
      " dense_11 (Dense)            (None, 4)                 36        \n",
      "                                                                 \n",
      "=================================================================\n",
      "Total params: 132 (528.00 Byte)\n",
      "Trainable params: 132 (528.00 Byte)\n",
      "Non-trainable params: 0 (0.00 Byte)\n",
      "_________________________________________________________________\n",
      "# 600  CR:  -214  R:  -64\n",
      "# 700  CR:  -232  R:  -64\n",
      "# 800  CR:  -238  R:  -64\n",
      "# 900  CR:  -244  R:  -64\n",
      "# 1000  CR:  -244  R:  -64\n",
      "# 1100  CR:  -250  R:  -64\n",
      "# 1200  CR:  -250  R:  -64\n",
      "# 1300  CR:  -208  R:  -58\n",
      "# 1400  CR:  -208  R:  -64\n",
      "# 1500  CR:  -172  R:  -58\n",
      "# 1600  CR:  -178  R:  -64\n",
      "# 1700  CR:  -196  R:  -64\n",
      "# 1800  CR:  -226  R:  -64\n",
      "# 1900  CR:  -250  R:  -64\n",
      "# 2000  CR:  -250  R:  -64\n",
      "# 2100  CR:  -250  R:  -64\n",
      "# 2200  CR:  -238  R:  -64\n",
      "# 2300  CR:  -202  R:  -64\n",
      "# 2400  CR:  -214  R:  -64\n",
      "# 2500  CR:  -244  R:  -64\n",
      "# 2600  CR:  -244  R:  -64\n",
      "# 2700  CR:  -244  R:  -64\n",
      "# 2800  CR:  -250  R:  -64\n",
      "# 2900  CR:  -250  R:  -64\n",
      "# 3000  CR:  -238  R:  -64\n",
      "# 3100  CR:  -232  R:  -64\n",
      "# 3200  CR:  -238  R:  -64\n",
      "# 3300  CR:  -238  R:  32\n",
      "# 3400  CR:  -226  R:  -64\n",
      "# 3500  CR:  -226  R:  -64\n",
      "# 3600  CR:  -244  R:  -64\n",
      "# 3700  CR:  -244  R:  -64\n",
      "# 3800  CR:  -250  R:  -64\n",
      "# 3900  CR:  -250  R:  -64\n",
      "# 4000  CR:  -250  R:  -64\n",
      "# 4100  CR:  -250  R:  -64\n",
      "# 4200  CR:  -250  R:  -64\n",
      "# 4300  CR:  -226  R:  32\n",
      "# 4400  CR:  -208  R:  -64\n",
      "# 4500  CR:  -208  R:  -64\n",
      "# 4600  CR:  -244  R:  32\n",
      "# 4700  CR:  -208  R:  -64\n",
      "# 4800  CR:  -196  R:  -64\n",
      "# 4900  CR:  -208  R:  -64\n",
      "# 5000  CR:  -238  R:  -64\n",
      "# 5100  CR:  -226  R:  -64\n",
      "# 5200  CR:  -220  R:  -64\n",
      "# 5300  CR:  -226  R:  -64\n",
      "# 5400  CR:  -244  R:  -64\n",
      "# 5500  CR:  -238  R:  -64\n",
      "# 5600  CR:  -244  R:  -64\n",
      "# 5700  CR:  -244  R:  -64\n",
      "# 5800  CR:  -232  R:  -58\n",
      "# 5900  CR:  -214  R:  -64\n"
     ]
    }
   ]
  },
  {
   "cell_type": "code",
   "source": [
    "a.summary()"
   ],
   "metadata": {
    "id": "Ol2VQmnBKKRA",
    "colab": {
     "base_uri": "https://localhost:8080/",
     "height": 1000
    },
    "executionInfo": {
     "status": "ok",
     "timestamp": 1691136328944,
     "user_tz": -120,
     "elapsed": 1141,
     "user": {
      "displayName": "Marco Sarti",
      "userId": "06571956198639174900"
     }
    },
    "outputId": "d388f2de-9779-4f9c-9929-cedbce4e8e03",
    "ExecuteTime": {
     "end_time": "2023-08-04T08:25:44.347348600Z",
     "start_time": "2023-08-04T08:25:44.011549900Z"
    }
   },
   "execution_count": 6,
   "outputs": [
    {
     "data": {
      "text/plain": "<Figure size 2400x800 with 1 Axes>",
      "image/png": "[encoded data removed]"
     },
     "metadata": {},
     "output_type": "display_data"
    },
    {
     "data": {
      "text/plain": "<Figure size 2400x800 with 1 Axes>",
      "image/png": "[encoded data removed]"
     },
     "metadata": {},
     "output_type": "display_data"
    }
   ]
  },
  {
   "cell_type": "code",
   "source": [
    "#il file fisicamente lo trovate nella cartella colab\n",
    "a.save_simulation_log(append_ts=False)"
   ],
   "metadata": {
    "id": "kE1RfaC5KpX4",
    "executionInfo": {
     "status": "ok",
     "timestamp": 1691136431899,
     "user_tz": -120,
     "elapsed": 266,
     "user": {
      "displayName": "Marco Sarti",
      "userId": "06571956198639174900"
     }
    },
    "ExecuteTime": {
     "end_time": "2023-08-04T08:25:44.461897500Z",
     "start_time": "2023-08-04T08:25:44.268624300Z"
    }
   },
   "execution_count": 7,
   "outputs": []
  },
  {
   "cell_type": "markdown",
   "source": [
    "#Legenda\n",
    "- **step**: numero sequenziale dello step\n",
    "- **state_x**: valore dell'ambiente nella cella di posizione x\n",
    "- **p1_x**: valori assunti dal modello 1 alla posizione x\n",
    "- **p2_x**: valori assunti dal modello 1 alla posizione x\n",
    "- **q_x**: valori assunti dal qtable alla posizione x\n",
    "- **rnd**: valore random generato in quello step, se > er usa i modelli per predirre se no sceglie un'azione randomica\n",
    "- **er**: exploration rate attuale\n",
    "- **action**: azione scelta\n",
    "- **reward**: reward restituita per quell'azione\n",
    "- **cum_reward**: reward cumulativa in quel momento"
   ],
   "metadata": {
    "id": "Ur6fWGsCm1tI"
   }
  },
  {
   "cell_type": "code",
   "source": [
    "df = pd.read_csv(\"simulation_log.csv\", delimiter=\";\")\n",
    "df"
   ],
   "metadata": {
    "id": "hEUwg5IPJ074",
    "colab": {
     "base_uri": "https://localhost:8080/",
     "height": 424
    },
    "executionInfo": {
     "status": "ok",
     "timestamp": 1691136444491,
     "user_tz": -120,
     "elapsed": 4,
     "user": {
      "displayName": "Marco Sarti",
      "userId": "06571956198639174900"
     }
    },
    "outputId": "39141617-5cd7-4b49-fe8c-86fd2a578a96",
    "ExecuteTime": {
     "end_time": "2023-08-04T08:25:44.492229400Z",
     "start_time": "2023-08-04T08:25:44.461897500Z"
    }
   },
   "execution_count": 8,
   "outputs": [
    {
     "data": {
      "text/plain": "      step  state_0  state_1      p1_0      p1_1      p1_2      p1_3  \\\n0        1      0.0      1.0 -0.106163 -0.044135  0.132252 -0.250360   \n1        2      0.0      1.0 -0.106163 -0.044135  0.132252 -0.250360   \n2        3      1.0      1.0 -0.012603 -0.018224  0.179850 -0.178848   \n3        4      1.0      1.0 -0.012603 -0.018224  0.179850 -0.178848   \n4        5      1.0      1.0 -0.012603 -0.018224  0.179850 -0.178848   \n...    ...      ...      ...       ...       ...       ...       ...   \n5995  5996      1.0      0.0 -2.769263 -2.721807 -2.824080 -2.710590   \n5996  5997      0.0      0.0 -2.757214 -2.777334 -2.729546 -2.927028   \n5997  5998      1.0      0.0 -2.769263 -2.721807 -2.824080 -2.710590   \n5998  5999      0.0      0.0 -2.757214 -2.777334 -2.729546 -2.927028   \n5999  6000      1.0      0.0 -2.769263 -2.721807 -2.824080 -2.710590   \n\n          p2_0      p2_1      p2_2      p2_3       q_0       q_1       q_2  \\\n0    -0.124259  0.019720 -0.292946 -0.052468 -0.124259 -0.044135 -0.292946   \n1    -0.124259  0.019720 -0.292946 -0.052468 -0.124259 -0.044135 -0.292946   \n2    -0.144482 -0.095484 -0.181876 -0.259447 -0.144482 -0.095484 -0.181876   \n3    -0.144482 -0.095484 -0.181876 -0.259447 -0.144482 -0.095484 -0.181876   \n4    -0.144482 -0.095484 -0.181876 -0.259447 -0.144482 -0.095484 -0.181876   \n...        ...       ...       ...       ...       ...       ...       ...   \n5995 -2.764692 -2.709117 -2.821971 -2.703057 -2.769263 -2.721807 -2.824080   \n5996 -2.750887 -2.779456 -2.720798 -2.928507 -2.757214 -2.779456 -2.729546   \n5997 -2.764692 -2.709117 -2.821971 -2.703057 -2.769263 -2.721807 -2.824080   \n5998 -2.750887 -2.779456 -2.720798 -2.928507 -2.757214 -2.779456 -2.729546   \n5999 -2.764692 -2.709117 -2.821971 -2.703057 -2.769263 -2.721807 -2.824080   \n\n           q_3       rnd     er  action  reward  cum_reward  \n0    -0.250360  0.753890  0.999       0      -1          -1  \n1    -0.250360  0.111348  0.998       0      -1          -2  \n2    -0.259447  0.941960  0.997       2      -1          -3  \n3    -0.259447  0.377757  0.996       0      -1          -4  \n4    -0.259447  0.716153  0.995       2      -1          -5  \n...        ...       ...    ...     ...     ...         ...  \n5995 -2.710590  0.963864  0.050       2      -1        -208  \n5996 -2.928507  0.681236  0.050       3      -1        -208  \n5997 -2.710590  0.066165  0.050       2      -1        -208  \n5998 -2.928507  0.892536  0.050       3      -1        -208  \n5999 -2.710590  0.768755  0.050       2      -1        -208  \n\n[6000 rows x 20 columns]",
      "text/html": "<div>\n<style scoped>\n    .dataframe tbody tr th:only-of-type {\n        vertical-align: middle;\n    }\n\n    .dataframe tbody tr th {\n        vertical-align: top;\n    }\n\n    .dataframe thead th {\n        text-align: right;\n    }\n</style>\n<table border=\"1\" class=\"dataframe\">\n  <thead>\n    <tr style=\"text-align: right;\">\n      <th></th>\n      <th>step</th>\n      <th>state_0</th>\n      <th>state_1</th>\n      <th>p1_0</th>\n      <th>p1_1</th>\n      <th>p1_2</th>\n      <th>p1_3</th>\n      <th>p2_0</th>\n      <th>p2_1</th>\n      <th>p2_2</th>\n      <th>p2_3</th>\n      <th>q_0</th>\n      <th>q_1</th>\n      <th>q_2</th>\n      <th>q_3</th>\n      <th>rnd</th>\n      <th>er</th>\n      <th>action</th>\n      <th>reward</th>\n      <th>cum_reward</th>\n    </tr>\n  </thead>\n  <tbody>\n    <tr>\n      <th>0</th>\n      <td>1</td>\n      <td>0.0</td>\n      <td>1.0</td>\n      <td>-0.106163</td>\n      <td>-0.044135</td>\n      <td>0.132252</td>\n      <td>-0.250360</td>\n      <td>-0.124259</td>\n      <td>0.019720</td>\n      <td>-0.292946</td>\n      <td>-0.052468</td>\n      <td>-0.124259</td>\n      <td>-0.044135</td>\n      <td>-0.292946</td>\n      <td>-0.250360</td>\n      <td>0.753890</td>\n      <td>0.999</td>\n      <td>0</td>\n      <td>-1</td>\n      <td>-1</td>\n    </tr>\n    <tr>\n      <th>1</th>\n      <td>2</td>\n      <td>0.0</td>\n      <td>1.0</td>\n      <td>-0.106163</td>\n      <td>-0.044135</td>\n      <td>0.132252</td>\n      <td>-0.250360</td>\n      <td>-0.124259</td>\n      <td>0.019720</td>\n      <td>-0.292946</td>\n      <td>-0.052468</td>\n      <td>-0.124259</td>\n      <td>-0.044135</td>\n      <td>-0.292946</td>\n      <td>-0.250360</td>\n      <td>0.111348</td>\n      <td>0.998</td>\n      <td>0</td>\n      <td>-1</td>\n      <td>-2</td>\n    </tr>\n    <tr>\n      <th>2</th>\n      <td>3</td>\n      <td>1.0</td>\n      <td>1.0</td>\n      <td>-0.012603</td>\n      <td>-0.018224</td>\n      <td>0.179850</td>\n      <td>-0.178848</td>\n      <td>-0.144482</td>\n      <td>-0.095484</td>\n      <td>-0.181876</td>\n      <td>-0.259447</td>\n      <td>-0.144482</td>\n      <td>-0.095484</td>\n      <td>-0.181876</td>\n      <td>-0.259447</td>\n      <td>0.941960</td>\n      <td>0.997</td>\n      <td>2</td>\n      <td>-1</td>\n      <td>-3</td>\n    </tr>\n    <tr>\n      <th>3</th>\n      <td>4</td>\n      <td>1.0</td>\n      <td>1.0</td>\n      <td>-0.012603</td>\n      <td>-0.018224</td>\n      <td>0.179850</td>\n      <td>-0.178848</td>\n      <td>-0.144482</td>\n      <td>-0.095484</td>\n      <td>-0.181876</td>\n      <td>-0.259447</td>\n      <td>-0.144482</td>\n      <td>-0.095484</td>\n      <td>-0.181876</td>\n      <td>-0.259447</td>\n      <td>0.377757</td>\n      <td>0.996</td>\n      <td>0</td>\n      <td>-1</td>\n      <td>-4</td>\n    </tr>\n    <tr>\n      <th>4</th>\n      <td>5</td>\n      <td>1.0</td>\n      <td>1.0</td>\n      <td>-0.012603</td>\n      <td>-0.018224</td>\n      <td>0.179850</td>\n      <td>-0.178848</td>\n      <td>-0.144482</td>\n      <td>-0.095484</td>\n      <td>-0.181876</td>\n      <td>-0.259447</td>\n      <td>-0.144482</td>\n      <td>-0.095484</td>\n      <td>-0.181876</td>\n      <td>-0.259447</td>\n      <td>0.716153</td>\n      <td>0.995</td>\n      <td>2</td>\n      <td>-1</td>\n      <td>-5</td>\n    </tr>\n    <tr>\n      <th>...</th>\n      <td>...</td>\n      <td>...</td>\n      <td>...</td>\n      <td>...</td>\n      <td>...</td>\n      <td>...</td>\n      <td>...</td>\n      <td>...</td>\n      <td>...</td>\n      <td>...</td>\n      <td>...</td>\n      <td>...</td>\n      <td>...</td>\n      <td>...</td>\n      <td>...</td>\n      <td>...</td>\n      <td>...</td>\n      <td>...</td>\n      <td>...</td>\n      <td>...</td>\n    </tr>\n    <tr>\n      <th>5995</th>\n      <td>5996</td>\n      <td>1.0</td>\n      <td>0.0</td>\n      <td>-2.769263</td>\n      <td>-2.721807</td>\n      <td>-2.824080</td>\n      <td>-2.710590</td>\n      <td>-2.764692</td>\n      <td>-2.709117</td>\n      <td>-2.821971</td>\n      <td>-2.703057</td>\n      <td>-2.769263</td>\n      <td>-2.721807</td>\n      <td>-2.824080</td>\n      <td>-2.710590</td>\n      <td>0.963864</td>\n      <td>0.050</td>\n      <td>2</td>\n      <td>-1</td>\n      <td>-208</td>\n    </tr>\n    <tr>\n      <th>5996</th>\n      <td>5997</td>\n      <td>0.0</td>\n      <td>0.0</td>\n      <td>-2.757214</td>\n      <td>-2.777334</td>\n      <td>-2.729546</td>\n      <td>-2.927028</td>\n      <td>-2.750887</td>\n      <td>-2.779456</td>\n      <td>-2.720798</td>\n      <td>-2.928507</td>\n      <td>-2.757214</td>\n      <td>-2.779456</td>\n      <td>-2.729546</td>\n      <td>-2.928507</td>\n      <td>0.681236</td>\n      <td>0.050</td>\n      <td>3</td>\n      <td>-1</td>\n      <td>-208</td>\n    </tr>\n    <tr>\n      <th>5997</th>\n      <td>5998</td>\n      <td>1.0</td>\n      <td>0.0</td>\n      <td>-2.769263</td>\n      <td>-2.721807</td>\n      <td>-2.824080</td>\n      <td>-2.710590</td>\n      <td>-2.764692</td>\n      <td>-2.709117</td>\n      <td>-2.821971</td>\n      <td>-2.703057</td>\n      <td>-2.769263</td>\n      <td>-2.721807</td>\n      <td>-2.824080</td>\n      <td>-2.710590</td>\n      <td>0.066165</td>\n      <td>0.050</td>\n      <td>2</td>\n      <td>-1</td>\n      <td>-208</td>\n    </tr>\n    <tr>\n      <th>5998</th>\n      <td>5999</td>\n      <td>0.0</td>\n      <td>0.0</td>\n      <td>-2.757214</td>\n      <td>-2.777334</td>\n      <td>-2.729546</td>\n      <td>-2.927028</td>\n      <td>-2.750887</td>\n      <td>-2.779456</td>\n      <td>-2.720798</td>\n      <td>-2.928507</td>\n      <td>-2.757214</td>\n      <td>-2.779456</td>\n      <td>-2.729546</td>\n      <td>-2.928507</td>\n      <td>0.892536</td>\n      <td>0.050</td>\n      <td>3</td>\n      <td>-1</td>\n      <td>-208</td>\n    </tr>\n    <tr>\n      <th>5999</th>\n      <td>6000</td>\n      <td>1.0</td>\n      <td>0.0</td>\n      <td>-2.769263</td>\n      <td>-2.721807</td>\n      <td>-2.824080</td>\n      <td>-2.710590</td>\n      <td>-2.764692</td>\n      <td>-2.709117</td>\n      <td>-2.821971</td>\n      <td>-2.703057</td>\n      <td>-2.769263</td>\n      <td>-2.721807</td>\n      <td>-2.824080</td>\n      <td>-2.710590</td>\n      <td>0.768755</td>\n      <td>0.050</td>\n      <td>2</td>\n      <td>-1</td>\n      <td>-208</td>\n    </tr>\n  </tbody>\n</table>\n<p>6000 rows × 20 columns</p>\n</div>"
     },
     "execution_count": 8,
     "metadata": {},
     "output_type": "execute_result"
    }
   ]
  }
 ]
}
